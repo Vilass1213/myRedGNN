{
 "cells": [
  {
   "cell_type": "code",
   "execution_count": 2,
   "id": "initial_id",
   "metadata": {
    "collapsed": true,
    "ExecuteTime": {
     "end_time": "2024-10-23T12:50:11.858320500Z",
     "start_time": "2024-10-23T12:50:11.717296500Z"
    }
   },
   "outputs": [
    {
     "name": "stdout",
     "output_type": "stream",
     "text": [
      "实体覆盖率: 100.00%\n",
      "共有 4005 个实体出现在 embeddings 中，总实体数为 4005。\n"
     ]
    }
   ],
   "source": [
    "def read_entities(entities_file):\n",
    "    with open(entities_file, 'r', encoding='utf-8') as f:\n",
    "        entities = set(line.strip() for line in f)\n",
    "    return entities\n",
    "\n",
    "def read_embeddings(embeddings_file):\n",
    "    with open(embeddings_file, 'r', encoding='utf-8') as f:\n",
    "        embeddings_entities = set(line.split()[0] for line in f)\n",
    "    return embeddings_entities\n",
    "\n",
    "# 计算 embeddings 中的实体在 entities 中的占比\n",
    "def calculate_entity_coverage(entities, embeddings_entities):\n",
    "    common_entities = entities.intersection(embeddings_entities)\n",
    "    coverage_ratio = len(common_entities) / len(entities) if len(entities) > 0 else 0\n",
    "    return coverage_ratio, len(common_entities), len(entities)\n",
    "\n",
    "\n",
    "entities_file = 'data/onlydrds/entities.txt'\n",
    "embeddings_file = 'data/graph_embedding/transe_rmtop10_drds_embeddings.txt'\n",
    "\n",
    "# 读取文件中的实体\n",
    "entities = read_entities(entities_file)\n",
    "embeddings_entities = read_embeddings(embeddings_file)\n",
    "\n",
    "\n",
    "# 计算占比\n",
    "coverage_ratio, common_count, total_entities = calculate_entity_coverage(entities, embeddings_entities)\n",
    "\n",
    "print(f'实体覆盖率: {coverage_ratio:.2%}')\n",
    "print(f'共有 {common_count} 个实体出现在 embeddings 中，总实体数为 {total_entities}。')\n"
   ]
  },
  {
   "cell_type": "code",
   "execution_count": null,
   "outputs": [],
   "source": [],
   "metadata": {
    "collapsed": false
   },
   "id": "c03d1fbb19ccb1fb"
  }
 ],
 "metadata": {
  "kernelspec": {
   "display_name": "Python 3",
   "language": "python",
   "name": "python3"
  },
  "language_info": {
   "codemirror_mode": {
    "name": "ipython",
    "version": 2
   },
   "file_extension": ".py",
   "mimetype": "text/x-python",
   "name": "python",
   "nbconvert_exporter": "python",
   "pygments_lexer": "ipython2",
   "version": "2.7.6"
  }
 },
 "nbformat": 4,
 "nbformat_minor": 5
}
